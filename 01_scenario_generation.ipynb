{
 "cells": [
  {
   "attachments": {},
   "cell_type": "markdown",
   "metadata": {},
   "source": [
    "## Scenario generation\n",
    "This notebook guides you through the process of generating a scenario for Google Earth Studio, in a `.esp` format, corresponding to positions in a specific landing cone.\n",
    "\n",
    "Before generating a scenario, the trajectory parameters can be defined in 2 different ways presented below:\n",
    "1) By modifying a `Config` object as illustrated in this notebook\n",
    "2) Using a scenario file `.yaml`, (equivalent to the `CLI` method presented in the [Readme](README.md))"
   ]
  },
  {
   "cell_type": "code",
   "execution_count": 7,
   "metadata": {},
   "outputs": [],
   "source": [
    "import json\n",
    "import os\n",
    "from pathlib import Path\n",
    "\n",
    "from src.scenario.write_scenario import write_scenario\n",
    "from src.scenario.scenario_config import ScenarioConfig"
   ]
  },
  {
   "attachments": {},
   "cell_type": "markdown",
   "metadata": {},
   "source": [
    "## Scenario generation using a `Config` object"
   ]
  },
  {
   "attachments": {},
   "cell_type": "markdown",
   "metadata": {},
   "source": [
    "- Visualisation of the available airports in the dabatase"
   ]
  },
  {
   "cell_type": "code",
   "execution_count": 10,
   "metadata": {},
   "outputs": [
    {
     "name": "stdout",
     "output_type": "stream",
     "text": [
      "['KDFW', 'KATL', 'EGLL', 'SKBO', 'EDDF', 'LFPG', 'LEBL', 'KCLT', 'KMCO', 'LTFM', 'VVTS', 'EGKK', 'VOBL', 'KLAX', 'KLAS', 'EDDM', 'RPLL', 'OERK', 'KJFK', 'LEMD', 'KDEN', 'KFLL', 'MMMX', 'ZGGG', 'WIII', 'OEJN', 'ZUUU', 'KORD', 'VTBS', 'KPHX', 'VVNB', 'LPPT', 'LTFJ', 'LOWW', 'KMIA', 'SBGR', 'KBOS', 'LIRF']\n"
     ]
    }
   ],
   "source": [
    "data_file = './data/runways_database.json'\n",
    "\n",
    "with open(data_file, 'r') as f:\n",
    "    runways_database = json.load(f)\n",
    "airports = [airport for airport in runways_database]\n",
    "\n",
    "print(airports)"
   ]
  },
  {
   "attachments": {},
   "cell_type": "markdown",
   "metadata": {},
   "source": [
    "- Once the airports of interest are selected, we can create the corresponding scenarios:"
   ]
  },
  {
   "cell_type": "code",
   "execution_count": 11,
   "metadata": {},
   "outputs": [
    {
     "name": "stdout",
     "output_type": "stream",
     "text": [
      "Warning: scenario KDFW_31L-13R_500 already exists!               Please enable overriding if necessary.\n",
      "Warning: scenario KDFW_36L-18R_500 already exists!               Please enable overriding if necessary.\n",
      "Warning: scenario KDFW_36R-18L_500 already exists!               Please enable overriding if necessary.\n",
      "Warning: scenario KDFW_35L-17R_500 already exists!               Please enable overriding if necessary.\n",
      "Warning: scenario KDFW_35C-17C_500 already exists!               Please enable overriding if necessary.\n",
      "Warning: scenario KDFW_35R-17L_500 already exists!               Please enable overriding if necessary.\n",
      "Warning: scenario KDFW_31R-13L_500 already exists!               Please enable overriding if necessary.\n",
      "Warning: scenario KATL_28-10_500 already exists!               Please enable overriding if necessary.\n",
      "Warning: scenario KATL_27L-09R_500 already exists!               Please enable overriding if necessary.\n",
      "Warning: scenario KATL_27R-09L_500 already exists!               Please enable overriding if necessary.\n",
      "Warning: scenario KATL_26L-08R_500 already exists!               Please enable overriding if necessary.\n",
      "Warning: scenario KATL_26R-08L_500 already exists!               Please enable overriding if necessary.\n",
      "Warning: scenario EGLL_27L-09R_500 already exists!               Please enable overriding if necessary.\n",
      "Warning: scenario EGLL_27R-09L_500 already exists!               Please enable overriding if necessary.\n",
      "Warning: scenario SKBO_31L-13R_500 already exists!               Please enable overriding if necessary.\n",
      "Warning: scenario SKBO_31R-13L_500 already exists!               Please enable overriding if necessary.\n",
      "Warning: scenario EDDF_36-18_500 already exists!               Please enable overriding if necessary.\n",
      "Warning: scenario EDDF_07L-25R_500 already exists!               Please enable overriding if necessary.\n",
      "Warning: scenario EDDF_07C-25C_500 already exists!               Please enable overriding if necessary.\n",
      "Warning: scenario EDDF_07R-25L_500 already exists!               Please enable overriding if necessary.\n",
      "Warning: scenario LFPG_09L-27R_500 already exists!               Please enable overriding if necessary.\n",
      "Warning: scenario LFPG_09R-27L_500 already exists!               Please enable overriding if necessary.\n",
      "Warning: scenario LFPG_08L-26R_500 already exists!               Please enable overriding if necessary.\n",
      "Warning: scenario LFPG_08R-26L_500 already exists!               Please enable overriding if necessary.\n",
      "Warning: scenario LEBL_07L-25R_500 already exists!               Please enable overriding if necessary.\n",
      "Warning: scenario LEBL_07R-25L_500 already exists!               Please enable overriding if necessary.\n",
      "Warning: scenario LEBL_02-20_500 already exists!               Please enable overriding if necessary.\n",
      "Warning: scenario KCLT_36L-18R_500 already exists!               Please enable overriding if necessary.\n",
      "Warning: scenario KCLT_36C-18C_500 already exists!               Please enable overriding if necessary.\n",
      "Warning: scenario KCLT_36R-18L_500 already exists!               Please enable overriding if necessary.\n",
      "Warning: scenario KCLT_05-23_500 already exists!               Please enable overriding if necessary.\n",
      "Warning: scenario KMCO_36L-18R_500 already exists!               Please enable overriding if necessary.\n",
      "Warning: scenario KMCO_36R-18L_500 already exists!               Please enable overriding if necessary.\n",
      "Warning: scenario KMCO_35L-17R_500 already exists!               Please enable overriding if necessary.\n",
      "Warning: scenario KMCO_35R-17L_500 already exists!               Please enable overriding if necessary.\n",
      "Warning: scenario LTFM_34L-16R_500 already exists!               Please enable overriding if necessary.\n",
      "Warning: scenario LTFM_34R-16L_500 already exists!               Please enable overriding if necessary.\n",
      "Warning: scenario LTFM_35L-17R_500 already exists!               Please enable overriding if necessary.\n",
      "Warning: scenario LTFM_35R-17L_500 already exists!               Please enable overriding if necessary.\n",
      "Warning: scenario LTFM_36-18_500 already exists!               Please enable overriding if necessary.\n",
      "Warning: scenario VVTS_07L-25R_500 already exists!               Please enable overriding if necessary.\n",
      "Warning: scenario VVTS_07R-25L_500 already exists!               Please enable overriding if necessary.\n",
      "Warning: scenario EGKK_08L-26R_500 already exists!               Please enable overriding if necessary.\n",
      "Warning: scenario EGKK_08R-26L_500 already exists!               Please enable overriding if necessary.\n",
      "Warning: scenario VOBL_09L-27R_500 already exists!               Please enable overriding if necessary.\n",
      "Warning: scenario VOBL_09R-27L_500 already exists!               Please enable overriding if necessary.\n",
      "Warning: scenario KLAX_06L-24R_500 already exists!               Please enable overriding if necessary.\n",
      "Warning: scenario KLAX_06R-24L_500 already exists!               Please enable overriding if necessary.\n",
      "Warning: scenario KLAX_07L-25R_500 already exists!               Please enable overriding if necessary.\n",
      "Warning: scenario KLAX_07R-25L_500 already exists!               Please enable overriding if necessary.\n",
      "Warning: scenario KLAS_01L-19R_500 already exists!               Please enable overriding if necessary.\n",
      "Warning: scenario KLAS_01R-19L_500 already exists!               Please enable overriding if necessary.\n",
      "Warning: scenario KLAS_08L-26R_500 already exists!               Please enable overriding if necessary.\n",
      "Warning: scenario KLAS_08R-26L_500 already exists!               Please enable overriding if necessary.\n",
      "Warning: scenario EDDM_08L-26R_500 already exists!               Please enable overriding if necessary.\n",
      "Warning: scenario EDDM_08R-26L_500 already exists!               Please enable overriding if necessary.\n",
      "Warning: scenario RPLL_13-31_500 already exists!               Please enable overriding if necessary.\n",
      "Warning: scenario RPLL_06-24_500 already exists!               Please enable overriding if necessary.\n",
      "Warning: scenario OERK_33L-15R_500 already exists!               Please enable overriding if necessary.\n",
      "Warning: scenario OERK_33R-15L_500 already exists!               Please enable overriding if necessary.\n",
      "Warning: scenario KJFK_31L-13R_500 already exists!               Please enable overriding if necessary.\n",
      "Warning: scenario KJFK_31R-13L_500 already exists!               Please enable overriding if necessary.\n",
      "Warning: scenario KJFK_04L-22R_500 already exists!               Please enable overriding if necessary.\n",
      "Warning: scenario KJFK_04R-22L_500 already exists!               Please enable overriding if necessary.\n",
      "Warning: scenario LEMD_32L-14R_500 already exists!               Please enable overriding if necessary.\n",
      "Warning: scenario LEMD_32R-14L_500 already exists!               Please enable overriding if necessary.\n",
      "Warning: scenario LEMD_36L-18R_500 already exists!               Please enable overriding if necessary.\n",
      "Warning: scenario LEMD_36R-18L_500 already exists!               Please enable overriding if necessary.\n",
      "Warning: scenario KDEN_34L-16R_500 already exists!               Please enable overriding if necessary.\n",
      "Warning: scenario KDEN_34R-16L_500 already exists!               Please enable overriding if necessary.\n",
      "Warning: scenario KDEN_35L-17R_500 already exists!               Please enable overriding if necessary.\n",
      "Warning: scenario KDEN_35R-17L_500 already exists!               Please enable overriding if necessary.\n",
      "Warning: scenario KDEN_07-25_500 already exists!               Please enable overriding if necessary.\n",
      "Warning: scenario KDEN_08-26_500 already exists!               Please enable overriding if necessary.\n",
      "Warning: scenario KFLL_10L-28R_500 already exists!               Please enable overriding if necessary.\n",
      "Warning: scenario KFLL_10R-28L_500 already exists!               Please enable overriding if necessary.\n",
      "Warning: scenario MMMX_05L-23R_500 already exists!               Please enable overriding if necessary.\n",
      "Warning: scenario MMMX_05R-23L_500 already exists!               Please enable overriding if necessary.\n",
      "Warning: scenario ZGGG_01-19_500 already exists!               Please enable overriding if necessary.\n",
      "Warning: scenario ZGGG_02L-20R_500 already exists!               Please enable overriding if necessary.\n",
      "Warning: scenario ZGGG_02R-20L_500 already exists!               Please enable overriding if necessary.\n",
      "Warning: scenario WIII_06-24_500 already exists!               Please enable overriding if necessary.\n",
      "Warning: scenario WIII_07L-25R_500 already exists!               Please enable overriding if necessary.\n",
      "Warning: scenario WIII_07R-25L_500 already exists!               Please enable overriding if necessary.\n",
      "Warning: scenario OEJN_34L-16R_500 already exists!               Please enable overriding if necessary.\n",
      "Warning: scenario OEJN_34C-16C_500 already exists!               Please enable overriding if necessary.\n",
      "Warning: scenario OEJN_34R-16L_500 already exists!               Please enable overriding if necessary.\n",
      "Warning: scenario ZUUU_02L-20R_500 already exists!               Please enable overriding if necessary.\n",
      "Warning: scenario ZUUU_02R-20L_500 already exists!               Please enable overriding if necessary.\n",
      "Warning: scenario KORD_09L-27R_500 already exists!               Please enable overriding if necessary.\n",
      "Warning: scenario KORD_09R-27L_500 already exists!               Please enable overriding if necessary.\n",
      "Warning: scenario KORD_04L-22R_500 already exists!               Please enable overriding if necessary.\n",
      "Warning: scenario KORD_10L-28R_500 already exists!               Please enable overriding if necessary.\n",
      "Warning: scenario KORD_10C-28C_500 already exists!               Please enable overriding if necessary.\n",
      "Warning: scenario KORD_10R-28L_500 already exists!               Please enable overriding if necessary.\n",
      "Warning: scenario KORD_04R-22L_500 already exists!               Please enable overriding if necessary.\n",
      "Warning: scenario VTBS_01L-19R_500 already exists!               Please enable overriding if necessary.\n",
      "Warning: scenario VTBS_01R-19L_500 already exists!               Please enable overriding if necessary.\n",
      "Warning: scenario KPHX_08-26_500 already exists!               Please enable overriding if necessary.\n",
      "Warning: scenario KPHX_07L-25R_500 already exists!               Please enable overriding if necessary.\n",
      "Warning: scenario KPHX_07R-25L_500 already exists!               Please enable overriding if necessary.\n",
      "Warning: scenario VVNB_11L-29R_500 already exists!               Please enable overriding if necessary.\n",
      "Warning: scenario VVNB_11R-29L_500 already exists!               Please enable overriding if necessary.\n",
      "Warning: scenario LPPT_03-21_500 already exists!               Please enable overriding if necessary.\n",
      "Warning: scenario LTFJ_06-24_500 already exists!               Please enable overriding if necessary.\n",
      "Warning: scenario LOWW_11-29_500 already exists!               Please enable overriding if necessary.\n",
      "Warning: scenario LOWW_34-16_500 already exists!               Please enable overriding if necessary.\n",
      "Warning: scenario KMIA_08L-26R_500 already exists!               Please enable overriding if necessary.\n",
      "Scenario exported as esp : scenarios/KMIA_08R-26L_500.esp\n",
      "Scenario exported as yaml : scenarios/KMIA_08R-26L_500.yaml\n",
      "Scenario exported as esp : scenarios/KMIA_09-27_500.esp\n",
      "Scenario exported as yaml : scenarios/KMIA_09-27_500.yaml\n",
      "Scenario exported as esp : scenarios/KMIA_12-30_500.esp\n",
      "Scenario exported as yaml : scenarios/KMIA_12-30_500.yaml\n",
      "Scenario exported as esp : scenarios/SBGR_09L-27R_500.esp\n",
      "Scenario exported as yaml : scenarios/SBGR_09L-27R_500.yaml\n",
      "Scenario exported as esp : scenarios/SBGR_09R-27L_500.esp\n",
      "Scenario exported as yaml : scenarios/SBGR_09R-27L_500.yaml\n",
      "Scenario exported as esp : scenarios/KBOS_33L-15R_500.esp\n",
      "Scenario exported as yaml : scenarios/KBOS_33L-15R_500.yaml\n",
      "Scenario exported as esp : scenarios/KBOS_33R-15L_500.esp\n",
      "Scenario exported as yaml : scenarios/KBOS_33R-15L_500.yaml\n",
      "Scenario exported as esp : scenarios/KBOS_32-14_500.esp\n",
      "Scenario exported as yaml : scenarios/KBOS_32-14_500.yaml\n",
      "Scenario exported as esp : scenarios/KBOS_04L-22R_500.esp\n",
      "Scenario exported as yaml : scenarios/KBOS_04L-22R_500.yaml\n",
      "Scenario exported as esp : scenarios/KBOS_04R-22L_500.esp\n",
      "Scenario exported as yaml : scenarios/KBOS_04R-22L_500.yaml\n",
      "Warning: scenario LIRF_34L-16R_500 already exists!               Please enable overriding if necessary.\n",
      "Warning: scenario LIRF_34R-16L_500 already exists!               Please enable overriding if necessary.\n"
     ]
    }
   ],
   "source": [
    "# airports = ['EDDF'] # An example of airport selection\n",
    "\n",
    "output_directory = Path(\"scenarios/\") # Creation of the scenario output if needed directory\n",
    "os.makedirs(output_directory, exist_ok=True)\n",
    "\n",
    "for airport in airports:\n",
    "    runways = list(runways_database[airport].keys())\n",
    "    for rwys in zip(runways[::2], runways[1::2]):\n",
    "        sample_number = 500 # Number of images to generate for each runway\n",
    "        \n",
    "        conf = ScenarioConfig(airport, rwys, scenario_dir= output_directory)\n",
    "        \n",
    "        conf.sample_number = sample_number\n",
    "        \n",
    "        # Date and time parameters\n",
    "        conf.month_max = 1\n",
    "        conf.month_min = 1\n",
    "        conf.day_max = 1\n",
    "        conf.day_min = 1\n",
    "        conf.hour_max = 12\n",
    "        conf.hour_min = 12\n",
    "        conf.minute_max = 0\n",
    "        conf.minute_min = 0       \n",
    "        \n",
    "        # Distance to runway parameters\n",
    "        conf.max_distance_m  = 6000 # Default value corresponding to 3 Nautical Mile\n",
    "        conf.min_distance_m  = 300\n",
    "        # Distribution used for the distances from the runway (details in generate_dist in src/ges/ges_dataset)\n",
    "        conf.distrib_param   = 1.41\n",
    "        conf.distribution    = \"exp\"        \n",
    "        \n",
    "        # Horizontal deviation parameters\n",
    "        conf.alpha_h_deg     = 0.0\n",
    "        conf.std_alpha_h_deg = 2\n",
    "        \n",
    "        # Vertical deviation parameters\n",
    "        conf.alpha_v_deg     = -3\n",
    "        conf.std_alpha_v_deg = 0.4\n",
    "        \n",
    "        # Yaw parameters\n",
    "        conf.yaw_deg         = 0.0\n",
    "        conf.std_yaw_deg     = 5.0\n",
    "        \n",
    "        # Pitch parameters\n",
    "        conf.pitch_deg       = -4\n",
    "        conf.std_pitch_deg   = 2\n",
    "        \n",
    "        # Roll parameters\n",
    "        conf.roll_deg        = 0.0\n",
    "        conf.std_roll_deg    = 5\n",
    "        \n",
    "        # Scenario generation\n",
    "        write_scenario(conf)"
   ]
  },
  {
   "attachments": {},
   "cell_type": "markdown",
   "metadata": {},
   "source": [
    "## Scenario generation using a `.yaml` config file"
   ]
  },
  {
   "cell_type": "code",
   "execution_count": null,
   "metadata": {},
   "outputs": [],
   "source": [
    "config = ScenarioConfig(yaml_file=\"params/example_generation.yml\")\n",
    "write_scenario(config)"
   ]
  }
 ],
 "metadata": {
  "kernelspec": {
   "display_name": "Python 3 (ipykernel)",
   "language": "python",
   "name": "python3"
  },
  "language_info": {
   "codemirror_mode": {
    "name": "ipython",
    "version": 3
   },
   "file_extension": ".py",
   "mimetype": "text/x-python",
   "name": "python",
   "nbconvert_exporter": "python",
   "pygments_lexer": "ipython3",
   "version": "3.9.16"
  },
  "vscode": {
   "interpreter": {
    "hash": "6c92753ff5a6b9e8444ec4eb5687a6b399a6ce105039843bee5a46e2a37cb572"
   }
  }
 },
 "nbformat": 4,
 "nbformat_minor": 2
}
