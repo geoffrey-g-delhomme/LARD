{
 "cells": [
  {
   "attachments": {},
   "cell_type": "markdown",
   "metadata": {},
   "source": [
    "## Scenario generation\n",
    "This notebook guides you through the process of generating a scenario for Google Earth Studio, in a `.esp` format, corresponding to positions in a specific landing cone.\n",
    "\n",
    "Before generating a scenario, the trajectory parameters can be defined in 2 different ways presented below:\n",
    "1) By modifying a `Config` object as illustrated in this notebook\n",
    "2) Using a scenario file `.yaml`, (equivalent to the `CLI` method presented in the [Readme](README.md))"
   ]
  },
  {
   "cell_type": "code",
   "execution_count": 1,
   "metadata": {},
   "outputs": [],
   "source": [
    "import json\n",
    "import os\n",
    "from pathlib import Path\n",
    "\n",
    "from src.scenario.write_scenario import write_scenario\n",
    "from src.scenario.scenario_config import ScenarioConfig"
   ]
  },
  {
   "attachments": {},
   "cell_type": "markdown",
   "metadata": {},
   "source": [
    "## Scenario generation using a `Config` object"
   ]
  },
  {
   "attachments": {},
   "cell_type": "markdown",
   "metadata": {},
   "source": [
    "- Visualisation of the available airports in the dabatase"
   ]
  },
  {
   "cell_type": "code",
   "execution_count": 2,
   "metadata": {},
   "outputs": [
    {
     "name": "stdout",
     "output_type": "stream",
     "text": [
      "['KDFW', 'KATL', 'EGLL', 'SKBO', 'EDDF', 'LFPG', 'LEBL', 'KCLT', 'KMCO', 'LTFM', 'VVTS', 'EGKK', 'VOBL', 'KLAX', 'KLAS', 'EDDM', 'RPLL', 'OERK', 'KJFK', 'LEMD', 'KDEN', 'LIRF', 'KFLL', 'MMMX', 'ZGGG', 'WIII', 'OEJN', 'ZUUU', 'KORD', 'VTBS', 'KPHX', 'VVNB', 'LPPT', 'LTFJ', 'LOWW', 'KMIA', 'SBGR', 'KBOS']\n"
     ]
    }
   ],
   "source": [
    "data_file = './data/runways_database.json'\n",
    "\n",
    "with open(data_file, 'r') as f:\n",
    "    runways_database = json.load(f)\n",
    "airports = [airport for airport in runways_database]\n",
    "\n",
    "print(airports)"
   ]
  },
  {
   "attachments": {},
   "cell_type": "markdown",
   "metadata": {},
   "source": [
    "- Once the airports of interest are selected, we can create the corresponding scenarios:"
   ]
  },
  {
   "cell_type": "code",
   "execution_count": 3,
   "metadata": {},
   "outputs": [
    {
     "name": "stdout",
     "output_type": "stream",
     "text": [
      "Warning: scenario KDFW_31L-13R_500 already exists!               Please enable overriding if necessary.\n",
      "Warning: scenario KDFW_36L-18R_500 already exists!               Please enable overriding if necessary.\n",
      "Warning: scenario KDFW_36R-18L_500 already exists!               Please enable overriding if necessary.\n",
      "Warning: scenario KDFW_35L-17R_500 already exists!               Please enable overriding if necessary.\n",
      "Warning: scenario KDFW_35C-17C_500 already exists!               Please enable overriding if necessary.\n",
      "Warning: scenario KDFW_35R-17L_500 already exists!               Please enable overriding if necessary.\n",
      "Warning: scenario KDFW_31R-13L_500 already exists!               Please enable overriding if necessary.\n",
      "Warning: scenario KATL_28-10_500 already exists!               Please enable overriding if necessary.\n",
      "Warning: scenario KATL_27L-09R_500 already exists!               Please enable overriding if necessary.\n",
      "Warning: scenario KATL_27R-09L_500 already exists!               Please enable overriding if necessary.\n",
      "Warning: scenario KATL_26L-08R_500 already exists!               Please enable overriding if necessary.\n",
      "Warning: scenario KATL_26R-08L_500 already exists!               Please enable overriding if necessary.\n",
      "Warning: scenario EGLL_27L-09R_500 already exists!               Please enable overriding if necessary.\n",
      "Warning: scenario EGLL_27R-09L_500 already exists!               Please enable overriding if necessary.\n",
      "Warning: scenario SKBO_31L-13R_500 already exists!               Please enable overriding if necessary.\n",
      "Warning: scenario SKBO_31R-13L_500 already exists!               Please enable overriding if necessary.\n",
      "Warning: scenario EDDF_36-18_500 already exists!               Please enable overriding if necessary.\n",
      "Warning: scenario EDDF_07L-25R_500 already exists!               Please enable overriding if necessary.\n",
      "Warning: scenario EDDF_07C-25C_500 already exists!               Please enable overriding if necessary.\n",
      "Warning: scenario EDDF_07R-25L_500 already exists!               Please enable overriding if necessary.\n",
      "Warning: scenario LFPG_09L-27R_500 already exists!               Please enable overriding if necessary.\n",
      "Warning: scenario LFPG_09R-27L_500 already exists!               Please enable overriding if necessary.\n",
      "Warning: scenario LFPG_08L-26R_500 already exists!               Please enable overriding if necessary.\n",
      "Warning: scenario LFPG_08R-26L_500 already exists!               Please enable overriding if necessary.\n",
      "Warning: scenario LEBL_07L-25R_500 already exists!               Please enable overriding if necessary.\n",
      "Warning: scenario LEBL_07R-25L_500 already exists!               Please enable overriding if necessary.\n",
      "Warning: scenario LEBL_02-20_500 already exists!               Please enable overriding if necessary.\n",
      "Warning: scenario KCLT_36L-18R_500 already exists!               Please enable overriding if necessary.\n",
      "Warning: scenario KCLT_36C-18C_500 already exists!               Please enable overriding if necessary.\n",
      "Warning: scenario KCLT_36R-18L_500 already exists!               Please enable overriding if necessary.\n",
      "Warning: scenario KCLT_05-23_500 already exists!               Please enable overriding if necessary.\n",
      "Warning: scenario KMCO_36L-18R_500 already exists!               Please enable overriding if necessary.\n",
      "Warning: scenario KMCO_36R-18L_500 already exists!               Please enable overriding if necessary.\n",
      "Warning: scenario KMCO_35L-17R_500 already exists!               Please enable overriding if necessary.\n",
      "Warning: scenario KMCO_35R-17L_500 already exists!               Please enable overriding if necessary.\n",
      "Warning: scenario LTFM_34L-16R_500 already exists!               Please enable overriding if necessary.\n",
      "Warning: scenario LTFM_34R-16L_500 already exists!               Please enable overriding if necessary.\n",
      "Warning: scenario LTFM_35L-17R_500 already exists!               Please enable overriding if necessary.\n",
      "Warning: scenario LTFM_35R-17L_500 already exists!               Please enable overriding if necessary.\n",
      "Warning: scenario LTFM_36-18_500 already exists!               Please enable overriding if necessary.\n",
      "Warning: scenario VVTS_07L-25R_500 already exists!               Please enable overriding if necessary.\n",
      "Warning: scenario VVTS_07R-25L_500 already exists!               Please enable overriding if necessary.\n",
      "Warning: scenario EGKK_08L-26R_500 already exists!               Please enable overriding if necessary.\n",
      "Warning: scenario EGKK_08R-26L_500 already exists!               Please enable overriding if necessary.\n",
      "Warning: scenario VOBL_09L-27R_500 already exists!               Please enable overriding if necessary.\n",
      "Warning: scenario VOBL_09R-27L_500 already exists!               Please enable overriding if necessary.\n",
      "Warning: scenario KLAX_06L-24R_500 already exists!               Please enable overriding if necessary.\n",
      "Warning: scenario KLAX_06R-24L_500 already exists!               Please enable overriding if necessary.\n",
      "Warning: scenario KLAX_07L-25R_500 already exists!               Please enable overriding if necessary.\n",
      "Warning: scenario KLAX_07R-25L_500 already exists!               Please enable overriding if necessary.\n",
      "Warning: scenario KLAS_01L-19R_500 already exists!               Please enable overriding if necessary.\n",
      "Warning: scenario KLAS_01R-19L_500 already exists!               Please enable overriding if necessary.\n",
      "Warning: scenario KLAS_08L-26R_500 already exists!               Please enable overriding if necessary.\n",
      "Warning: scenario KLAS_08R-26L_500 already exists!               Please enable overriding if necessary.\n",
      "Warning: scenario EDDM_08L-26R_500 already exists!               Please enable overriding if necessary.\n",
      "Warning: scenario EDDM_08R-26L_500 already exists!               Please enable overriding if necessary.\n",
      "Warning: scenario RPLL_13-31_500 already exists!               Please enable overriding if necessary.\n",
      "Warning: scenario RPLL_06-24_500 already exists!               Please enable overriding if necessary.\n",
      "Warning: scenario OERK_33L-15R_500 already exists!               Please enable overriding if necessary.\n",
      "Warning: scenario OERK_33R-15L_500 already exists!               Please enable overriding if necessary.\n",
      "Warning: scenario KJFK_31L-13R_500 already exists!               Please enable overriding if necessary.\n",
      "Warning: scenario KJFK_31R-13L_500 already exists!               Please enable overriding if necessary.\n",
      "Warning: scenario KJFK_04L-22R_500 already exists!               Please enable overriding if necessary.\n",
      "Warning: scenario KJFK_04R-22L_500 already exists!               Please enable overriding if necessary.\n",
      "Warning: scenario LEMD_32L-14R_500 already exists!               Please enable overriding if necessary.\n",
      "Warning: scenario LEMD_32R-14L_500 already exists!               Please enable overriding if necessary.\n",
      "Warning: scenario LEMD_36L-18R_500 already exists!               Please enable overriding if necessary.\n",
      "Warning: scenario LEMD_36R-18L_500 already exists!               Please enable overriding if necessary.\n",
      "Warning: scenario KDEN_34L-16R_500 already exists!               Please enable overriding if necessary.\n",
      "Warning: scenario KDEN_34R-16L_500 already exists!               Please enable overriding if necessary.\n",
      "Warning: scenario KDEN_35L-17R_500 already exists!               Please enable overriding if necessary.\n",
      "Warning: scenario KDEN_35R-17L_500 already exists!               Please enable overriding if necessary.\n",
      "Warning: scenario KDEN_07-25_500 already exists!               Please enable overriding if necessary.\n",
      "Warning: scenario KDEN_08-26_500 already exists!               Please enable overriding if necessary.\n",
      "Warning: scenario LIRF_34L-16R_500 already exists!               Please enable overriding if necessary.\n",
      "Warning: scenario LIRF_34R-16L_500 already exists!               Please enable overriding if necessary.\n",
      "Warning: scenario KFLL_10L-28R_500 already exists!               Please enable overriding if necessary.\n",
      "Warning: scenario KFLL_10R-28L_500 already exists!               Please enable overriding if necessary.\n",
      "Warning: scenario MMMX_05L-23R_500 already exists!               Please enable overriding if necessary.\n",
      "Warning: scenario MMMX_05R-23L_500 already exists!               Please enable overriding if necessary.\n",
      "Warning: scenario ZGGG_01-19_500 already exists!               Please enable overriding if necessary.\n",
      "Warning: scenario ZGGG_02L-20R_500 already exists!               Please enable overriding if necessary.\n",
      "Warning: scenario ZGGG_02R-20L_500 already exists!               Please enable overriding if necessary.\n",
      "Scenario exported as esp : scenarios/WIII_06-24_500.esp\n",
      "Scenario exported as yaml : scenarios/WIII_06-24_500.yaml\n",
      "Scenario exported as esp : scenarios/WIII_07L-25R_500.esp\n",
      "Scenario exported as yaml : scenarios/WIII_07L-25R_500.yaml\n",
      "Scenario exported as esp : scenarios/WIII_07R-25L_500.esp\n",
      "Scenario exported as yaml : scenarios/WIII_07R-25L_500.yaml\n",
      "Scenario exported as esp : scenarios/OEJN_34L-16R_500.esp\n",
      "Scenario exported as yaml : scenarios/OEJN_34L-16R_500.yaml\n",
      "Scenario exported as esp : scenarios/OEJN_34C-16C_500.esp\n",
      "Scenario exported as yaml : scenarios/OEJN_34C-16C_500.yaml\n",
      "Scenario exported as esp : scenarios/OEJN_34R-16L_500.esp\n",
      "Scenario exported as yaml : scenarios/OEJN_34R-16L_500.yaml\n"
     ]
    },
    {
     "ename": "KeyboardInterrupt",
     "evalue": "",
     "output_type": "error",
     "traceback": [
      "\u001b[0;31m---------------------------------------------------------------------------\u001b[0m",
      "\u001b[0;31mKeyboardInterrupt\u001b[0m                         Traceback (most recent call last)",
      "Cell \u001b[0;32mIn[3], line 53\u001b[0m\n\u001b[1;32m     50\u001b[0m conf\u001b[39m.\u001b[39mstd_roll_deg    \u001b[39m=\u001b[39m \u001b[39m5\u001b[39m\n\u001b[1;32m     52\u001b[0m \u001b[39m# Scenario generation\u001b[39;00m\n\u001b[0;32m---> 53\u001b[0m write_scenario(conf)\n",
      "File \u001b[0;32m~/Documents/GitHub/LARD/src/scenario/write_scenario.py:49\u001b[0m, in \u001b[0;36mwrite_scenario\u001b[0;34m(scenario_config, override)\u001b[0m\n\u001b[1;32m     47\u001b[0m poses \u001b[39m=\u001b[39m [p[\u001b[39m'\u001b[39m\u001b[39mpose\u001b[39m\u001b[39m'\u001b[39m] \u001b[39mfor\u001b[39;00m p \u001b[39min\u001b[39;00m scenario_content\u001b[39m.\u001b[39mposes]\n\u001b[1;32m     48\u001b[0m times \u001b[39m=\u001b[39m [p[\u001b[39m'\u001b[39m\u001b[39mtime\u001b[39m\u001b[39m'\u001b[39m] \u001b[39mfor\u001b[39;00m p \u001b[39min\u001b[39;00m scenario_content\u001b[39m.\u001b[39mposes]\n\u001b[0;32m---> 49\u001b[0m scenario \u001b[39m=\u001b[39m generate_scenario(scenario_content\u001b[39m.\u001b[39;49mimage\u001b[39m.\u001b[39;49mwidth, poses, times, fov, height, ges_dataset)\n\u001b[1;32m     51\u001b[0m \u001b[39m# Write scenario in esp format (google engine format)\u001b[39;00m\n\u001b[1;32m     52\u001b[0m os\u001b[39m.\u001b[39mmakedirs(out_google_file\u001b[39m.\u001b[39mparent\u001b[39m.\u001b[39mas_posix(), exist_ok\u001b[39m=\u001b[39m\u001b[39mTrue\u001b[39;00m)\n",
      "File \u001b[0;32m~/Documents/GitHub/LARD/src/scenario/write_scenario_utils.py:58\u001b[0m, in \u001b[0;36mgenerate_scenario\u001b[0;34m(image_width, poses, times, fov, height, d)\u001b[0m\n\u001b[1;32m     53\u001b[0m \u001b[39mdef\u001b[39;00m \u001b[39mgenerate_scenario\u001b[39m(image_width, poses, times, fov, height, d: GESDataset):\n\u001b[1;32m     54\u001b[0m \u001b[39m    \u001b[39m\u001b[39m\"\"\" \u001b[39;00m\n\u001b[1;32m     55\u001b[0m \u001b[39m    generate the scenario (format for GES)\u001b[39;00m\n\u001b[1;32m     56\u001b[0m \u001b[39m    \u001b[39;00m\n\u001b[1;32m     57\u001b[0m \u001b[39m    \"\"\"\u001b[39;00m\n\u001b[0;32m---> 58\u001b[0m     scenario, _ \u001b[39m=\u001b[39m d\u001b[39m.\u001b[39;49mcreate_scenario(\n\u001b[1;32m     59\u001b[0m         flight_data\u001b[39m=\u001b[39;49mposes,\n\u001b[1;32m     60\u001b[0m         nb_frames\u001b[39m=\u001b[39;49m\u001b[39mlen\u001b[39;49m(poses),\n\u001b[1;32m     61\u001b[0m         fov_vertical\u001b[39m=\u001b[39;49mfov,\n\u001b[1;32m     62\u001b[0m         width\u001b[39m=\u001b[39;49mimage_width,\n\u001b[1;32m     63\u001b[0m         height\u001b[39m=\u001b[39;49mheight,\n\u001b[1;32m     64\u001b[0m         times\u001b[39m=\u001b[39;49mtimes\n\u001b[1;32m     65\u001b[0m     )\n\u001b[1;32m     66\u001b[0m     \u001b[39mreturn\u001b[39;00m scenario\n",
      "File \u001b[0;32m~/Documents/GitHub/LARD/src/ges/ges_dataset.py:414\u001b[0m, in \u001b[0;36mGESDataset.create_scenario\u001b[0;34m(self, flight_data, fov_vertical, fov_horizontal, width, height, nb_frames, fps, times, export_metadata)\u001b[0m\n\u001b[1;32m    411\u001b[0m     metadata \u001b[39m=\u001b[39m \u001b[39mNone\u001b[39;00m\n\u001b[1;32m    413\u001b[0m index \u001b[39m=\u001b[39m \u001b[39m0\u001b[39m\n\u001b[0;32m--> 414\u001b[0m tf \u001b[39m=\u001b[39m TimezoneFinder()\n\u001b[1;32m    415\u001b[0m \u001b[39mfor\u001b[39;00m i \u001b[39min\u001b[39;00m \u001b[39mrange\u001b[39m(\u001b[39mlen\u001b[39m(flight_data)):\n\u001b[1;32m    417\u001b[0m     row \u001b[39m=\u001b[39m flight_data[i]\n",
      "File \u001b[0;32m~/miniconda3/envs/lard/lib/python3.10/site-packages/timezonefinder/timezonefinder.py:259\u001b[0m, in \u001b[0;36mTimezoneFinder.__init__\u001b[0;34m(self, bin_file_location, in_memory)\u001b[0m\n\u001b[1;32m    258\u001b[0m \u001b[39mdef\u001b[39;00m \u001b[39m__init__\u001b[39m(\u001b[39mself\u001b[39m, bin_file_location: Optional[\u001b[39mstr\u001b[39m] \u001b[39m=\u001b[39m \u001b[39mNone\u001b[39;00m, in_memory: \u001b[39mbool\u001b[39m \u001b[39m=\u001b[39m \u001b[39mFalse\u001b[39;00m):\n\u001b[0;32m--> 259\u001b[0m     \u001b[39msuper\u001b[39;49m()\u001b[39m.\u001b[39;49m\u001b[39m__init__\u001b[39;49m(bin_file_location, in_memory)\n\u001b[1;32m    261\u001b[0m     \u001b[39m# stores for which polygons (how many) holes exits and the id of the first of those holes\u001b[39;00m\n\u001b[1;32m    262\u001b[0m     \u001b[39m# since there are very few it is feasible to keep them in the memory\u001b[39;00m\n\u001b[1;32m    263\u001b[0m     \u001b[39mwith\u001b[39;00m \u001b[39mopen\u001b[39m(\u001b[39mself\u001b[39m\u001b[39m.\u001b[39mbin_file_location \u001b[39m/\u001b[39m HOLE_REGISTRY_FILE) \u001b[39mas\u001b[39;00m json_file:\n",
      "File \u001b[0;32m~/miniconda3/envs/lard/lib/python3.10/site-packages/timezonefinder/timezonefinder.py:80\u001b[0m, in \u001b[0;36mAbstractTimezoneFinder.__init__\u001b[0;34m(self, bin_file_location, in_memory)\u001b[0m\n\u001b[1;32m     77\u001b[0m     \u001b[39mself\u001b[39m\u001b[39m.\u001b[39mtimezone_names \u001b[39m=\u001b[39m json\u001b[39m.\u001b[39mloads(json_file\u001b[39m.\u001b[39mread())\n\u001b[1;32m     79\u001b[0m path2shortcut_bin \u001b[39m=\u001b[39m \u001b[39mself\u001b[39m\u001b[39m.\u001b[39mbin_file_location \u001b[39m/\u001b[39m SHORTCUT_FILE\n\u001b[0;32m---> 80\u001b[0m \u001b[39mself\u001b[39m\u001b[39m.\u001b[39mshortcut_mapping \u001b[39m=\u001b[39m read_shortcuts_binary(path2shortcut_bin)\n\u001b[1;32m     82\u001b[0m \u001b[39mfor\u001b[39;00m attribute_name \u001b[39min\u001b[39;00m \u001b[39mself\u001b[39m\u001b[39m.\u001b[39mbinary_data_attributes:\n\u001b[1;32m     83\u001b[0m     file_name \u001b[39m=\u001b[39m attribute_name \u001b[39m+\u001b[39m BINARY_FILE_ENDING\n",
      "File \u001b[0;32m~/miniconda3/envs/lard/lib/python3.10/site-packages/timezonefinder/hex_helpers.py:56\u001b[0m, in \u001b[0;36mread_shortcuts_binary\u001b[0;34m(path2shortcuts)\u001b[0m\n\u001b[1;32m     54\u001b[0m             \u001b[39mbreak\u001b[39;00m\n\u001b[1;32m     55\u001b[0m         nr_polys: \u001b[39mint\u001b[39m \u001b[39m=\u001b[39m struct\u001b[39m.\u001b[39munpack(DTYPE_FORMAT_B, fp\u001b[39m.\u001b[39mread(NR_BYTES_B))[\u001b[39m0\u001b[39m]\n\u001b[0;32m---> 56\u001b[0m         poly_ids: np\u001b[39m.\u001b[39mndarray \u001b[39m=\u001b[39m np\u001b[39m.\u001b[39;49mfromfile(fp, dtype\u001b[39m=\u001b[39;49mDTYPE_FORMAT_H_NUMPY, count\u001b[39m=\u001b[39;49mnr_polys)\n\u001b[1;32m     57\u001b[0m         mapping[hex_id] \u001b[39m=\u001b[39m poly_ids\n\u001b[1;32m     59\u001b[0m \u001b[39mreturn\u001b[39;00m mapping\n",
      "\u001b[0;31mKeyboardInterrupt\u001b[0m: "
     ]
    }
   ],
   "source": [
    "# airports = ['EDDF'] # An example of airport selection\n",
    "\n",
    "output_directory = Path(\"scenarios/\") # Creation of the scenario output if needed directory\n",
    "os.makedirs(output_directory, exist_ok=True)\n",
    "\n",
    "for airport in airports:\n",
    "    runways = list(runways_database[airport].keys())\n",
    "    for rwys in zip(runways[::2], runways[1::2]):\n",
    "        sample_number = 500 # Number of images to generate for each runway\n",
    "        \n",
    "        conf = ScenarioConfig(airport, rwys, scenario_dir= output_directory)\n",
    "        \n",
    "        conf.sample_number = sample_number\n",
    "        \n",
    "        # Date and time parameters\n",
    "        conf.month_max = 1\n",
    "        conf.month_min = 1\n",
    "        conf.day_max = 1\n",
    "        conf.day_min = 1\n",
    "        conf.hour_max = 12\n",
    "        conf.hour_min = 12\n",
    "        conf.minute_max = 0\n",
    "        conf.minute_min = 0       \n",
    "        \n",
    "        # Distance to runway parameters\n",
    "        conf.max_distance_m  = 6000 # Default value corresponding to 3 Nautical Mile\n",
    "        conf.min_distance_m  = 300\n",
    "        # Distribution used for the distances from the runway (details in generate_dist in src/ges/ges_dataset)\n",
    "        conf.distrib_param   = 1.41\n",
    "        conf.distribution    = \"exp\"        \n",
    "        \n",
    "        # Horizontal deviation parameters\n",
    "        conf.alpha_h_deg     = 0.0\n",
    "        conf.std_alpha_h_deg = 2\n",
    "        \n",
    "        # Vertical deviation parameters\n",
    "        conf.alpha_v_deg     = -3\n",
    "        conf.std_alpha_v_deg = 0.4\n",
    "        \n",
    "        # Yaw parameters\n",
    "        conf.yaw_deg         = 0.0\n",
    "        conf.std_yaw_deg     = 5.0\n",
    "        \n",
    "        # Pitch parameters\n",
    "        conf.pitch_deg       = -4\n",
    "        conf.std_pitch_deg   = 2\n",
    "        \n",
    "        # Roll parameters\n",
    "        conf.roll_deg        = 0.0\n",
    "        conf.std_roll_deg    = 5\n",
    "        \n",
    "        # Scenario generation\n",
    "        write_scenario(conf)"
   ]
  },
  {
   "attachments": {},
   "cell_type": "markdown",
   "metadata": {},
   "source": [
    "## Scenario generation using a `.yaml` config file"
   ]
  },
  {
   "cell_type": "code",
   "execution_count": null,
   "metadata": {},
   "outputs": [],
   "source": [
    "config = ScenarioConfig(yaml_file=\"params/example_generation.yml\")\n",
    "write_scenario(config)"
   ]
  }
 ],
 "metadata": {
  "kernelspec": {
   "display_name": "Python 3 (ipykernel)",
   "language": "python",
   "name": "python3"
  },
  "language_info": {
   "codemirror_mode": {
    "name": "ipython",
    "version": 3
   },
   "file_extension": ".py",
   "mimetype": "text/x-python",
   "name": "python",
   "nbconvert_exporter": "python",
   "pygments_lexer": "ipython3",
   "version": "3.9.16"
  },
  "vscode": {
   "interpreter": {
    "hash": "6c92753ff5a6b9e8444ec4eb5687a6b399a6ce105039843bee5a46e2a37cb572"
   }
  }
 },
 "nbformat": 4,
 "nbformat_minor": 2
}
