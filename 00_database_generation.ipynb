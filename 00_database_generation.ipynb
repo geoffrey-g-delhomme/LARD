{
 "cells": [
  {
   "attachments": {},
   "cell_type": "markdown",
   "metadata": {},
   "source": [
    "## Runway database update\n",
    "This notebook guides you through the process of adding or updating runways in the database of airports."
   ]
  },
  {
   "cell_type": "code",
   "execution_count": 1,
   "metadata": {},
   "outputs": [],
   "source": [
    "import json\n",
    "import numpy as np\n",
    "from src.ges.ges_dataset import add_or_update_runways"
   ]
  },
  {
   "attachments": {},
   "cell_type": "markdown",
   "metadata": {},
   "source": [
    "### Open and visualize the database\n",
    "The database is stored in the `data/` folder, but you can use any json file if needed. Note that this database `.json` file is reused during the labeling process and must remain consistent between the generation of a scenario and the labeling of the resulting images."
   ]
  },
  {
   "cell_type": "code",
   "execution_count": 2,
   "metadata": {},
   "outputs": [
    {
     "name": "stdout",
     "output_type": "stream",
     "text": [
      "['ZBAA', 'LTAI', 'LICJ', 'LPPT', 'LIRN', 'EDDV', 'LSZH', 'LEMD', 'LWSK', 'VHHH', 'CYUL', 'VRMM', 'LFSB', 'LCPH', 'GCRR', 'EHAM', 'SAEZ', 'LFRN', 'LFRS', 'LFPO', 'LFQQ', 'LFST', 'LFMP', 'DAAG', 'VABB', 'BIRK', 'YBBN', 'CYVR', 'CYYZ', 'KIAH', 'KJFK', 'KMIA', 'KSFO', 'MDSD', 'RJAA', 'RJTT', 'WSSS', 'FMEP', 'VQPR', 'DIAP', 'KMSY', 'SRLI', 'VDPP', 'RPMD', 'VOTV', 'YMLT', 'OMAD', 'HTDA', 'FTTJ', 'LOWL', 'LGSM', 'DAAS', 'SEQM', 'LFBO', 'KATL']\n"
     ]
    }
   ],
   "source": [
    "data_file = 'data/runways_database.json'\n",
    "ICAO_airport_list = []\n",
    "with open(data_file, 'r') as f:\n",
    "    runways_database = json.load(f)\n",
    "ICAO_airport_list = [airport for airport in runways_database]\n",
    "\n",
    "print(ICAO_airport_list)"
   ]
  },
  {
   "cell_type": "code",
   "execution_count": 3,
   "metadata": {},
   "outputs": [
    {
     "name": "stdout",
     "output_type": "stream",
     "text": [
      "Runway 36R\n",
      "| Corner  A\n",
      "| |  latitude:  36.911331891325375\n",
      "| | longitude:  30.81166080286701\n",
      "| |  altitude:  52.0\n",
      "| Corner  B\n",
      "| |  latitude:  36.91137639182183\n",
      "| | longitude:  30.811169288076773\n",
      "| |  altitude:  52.0\n",
      "| Corner  C\n",
      "| |  latitude:  36.880923205425624\n",
      "| | longitude:  30.806972063987775\n",
      "| |  altitude:  47.0\n",
      "| Corner  D\n",
      "| |  latitude:  36.88088029626469\n",
      "| | longitude:  30.807466260961807\n",
      "| |  altitude:  47.0\n",
      "Runway 18L\n",
      "| Corner  A\n",
      "| |  latitude:  36.880923205425624\n",
      "| | longitude:  30.806972063987775\n",
      "| |  altitude:  47.0\n",
      "| Corner  B\n",
      "| |  latitude:  36.88088029626469\n",
      "| | longitude:  30.807466260961807\n",
      "| |  altitude:  47.0\n",
      "| Corner  C\n",
      "| |  latitude:  36.911331891325375\n",
      "| | longitude:  30.81166080286701\n",
      "| |  altitude:  52.0\n",
      "| Corner  D\n",
      "| |  latitude:  36.91137639182183\n",
      "| | longitude:  30.811169288076773\n",
      "| |  altitude:  52.0\n"
     ]
    }
   ],
   "source": [
    "# You can directly visualize the airport database in the .json file, \n",
    "# or you can explore the runways of a specific airport as follows\n",
    "data_file = 'data/runways_database.json'\n",
    "airport = 'LTAI' # Replace with the chosen airport ICAO code\n",
    "\n",
    "with open(data_file, 'r') as f:\n",
    "    runways_database = json.load(f)\n",
    "    for runway in runways_database[airport]:\n",
    "        print(\"Runway\", runway)\n",
    "        for point in runways_database[airport][runway]:\n",
    "            print(\"| Corner \", point)\n",
    "            print(\"| |  latitude: \", runways_database[airport][runway][point]['coordinate']['latitude'])\n",
    "            print(\"| | longitude: \", runways_database[airport][runway][point]['coordinate']['longitude'])\n",
    "            print(\"| |  altitude: \", runways_database[airport][runway][point]['coordinate']['altitude'])"
   ]
  },
  {
   "attachments": {},
   "cell_type": "markdown",
   "metadata": {},
   "source": [
    "# Updating the database\n",
    "These examples guides you through adding new runways or updating existing ones in the runways database.\n",
    "- ❗️ By default, a runway corresponds to 2 runway ids, one for each side of the runway. Therefore if 2 `runway_ids` are provided, the 4 coordinates will be stored twice in the database, once for each side of the runway with the proper order. Otherwise, the 4 coordinates will be stored only once for the specific `runway_id` specified.\n",
    "- ❗️ The order of the points is important: The first 2 points **MUST** correspond to the first runway indicated in the `runway_ids`. The other 2 points **must always be present**, and will correspond to the second runway ID if present. \n",
    "- ❗️ Runway IDs are strings and may contain letters. It also implies that the runway `01` and the runway `1` will be stored separately in the json file.   "
   ]
  },
  {
   "cell_type": "code",
   "execution_count": 4,
   "metadata": {},
   "outputs": [],
   "source": [
    "# Common usage: adding a runway to the database\n",
    "data_file = 'data/runways_database.json'\n",
    "\n",
    "airport_name = 'FMEP' # Existing or new airport ICAO code\n",
    "\n",
    "runway_ids = ['15', '33'] # Supports 1 or 2 runway ID\n",
    "\n",
    "# Coordinates must be a numpy array of 4 coordinates in WGS84 format:\n",
    "# ==> Latitude, Longitude, Altitude in meters.\n",
    "coordinates = np.array([\n",
    "    [-21.313539792048655, 55.414677867454635, 17 ], # Points 1 and 2 should correspond to the first runway ID\n",
    "    [-21.313233693596825, 55.414951452761926, 17 ],\n",
    "    [-21.324679789297647, 55.43004674957136,  14  ], # Points 3 and 4 should correspond to the second runway ID if present,\n",
    "    [-21.32499113834105,  55.42977957629199,  14  ]  # but these last two points are always required nonetheless\n",
    "    ])\n",
    "\n",
    "# This function will add the existing runway to the database or update its coordinates if it exists\n",
    "add_or_update_runways(data_file, airport_name, runway_ids, coordinates)"
   ]
  },
  {
   "attachments": {},
   "cell_type": "markdown",
   "metadata": {},
   "source": [
    "## Advanced usage\n",
    "- Using another database file (❗️ the file must exist already)"
   ]
  },
  {
   "cell_type": "code",
   "execution_count": 23,
   "metadata": {},
   "outputs": [],
   "source": [
    "# You can specify another file if needed\n",
    "runways_db_name = 'data/My_runway_database.json' # (file must exist!)\n",
    "airport_name = 'YBBN'\n",
    "runways = ['01', '19'] # Supports 1 or 2 runway ID.\n",
    "# Pay attention to the '01' here, as it might be redundant with an existing runway '1'\n",
    "coordinates = np.array([\n",
    "    [-27.402915287771446, 153.11842342220433, -1 ], # Points 1 and 2 should correspond to the first runway ID\n",
    "    [-27.402734367704532, 153.11802790132325, -1 ],\n",
    "    [-27.374768439323887, 153.1345185366854,  -3 ], # Points 3 and 4 should correspond to the second runway ID if present\n",
    "    [-27.37459000204882,  153.13412570163402, -3 ]])\n",
    "\n",
    "add_or_update_runways(runways_db_name, airport_name, runways, coordinates)"
   ]
  },
  {
   "attachments": {},
   "cell_type": "markdown",
   "metadata": {},
   "source": [
    "- Building a database of buildings or any element visible in aerial images (❗️ file must exist)"
   ]
  },
  {
   "cell_type": "code",
   "execution_count": 24,
   "metadata": {},
   "outputs": [],
   "source": [
    "# We could even build another type of database, for instance specifying the coordinates of buildings\n",
    "buildings_db_name = 'data/buildings_database.json' # (file must exist!)\n",
    "building_code = 'IRT'\n",
    "building = ['SaintEx'] # You can specify a single element, still with its 4 coordinates\n",
    "coordinates = np.array([[43.56373298797086, 1.4883420029868122, 160],\n",
    "                        [43.56329195043376, 1.488868309946021,  160],\n",
    "                        [43.56290020261955, 1.4882632359589036, 160],\n",
    "                        [43.56332827129408, 1.487761991235848,  160]])\n",
    "\n",
    "add_or_update_runways(buildings_db_name, building_code, building, coordinates)"
   ]
  }
 ],
 "metadata": {
  "kernelspec": {
   "display_name": "LARD_env",
   "language": "python",
   "name": "python3"
  },
  "language_info": {
   "codemirror_mode": {
    "name": "ipython",
    "version": 3
   },
   "file_extension": ".py",
   "mimetype": "text/x-python",
   "name": "python",
   "nbconvert_exporter": "python",
   "pygments_lexer": "ipython3",
   "version": "3.10.11"
  },
  "vscode": {
   "interpreter": {
    "hash": "842a7088db44c00ca77a3dc61e0a8652101f0fddac8ceb0167a83c71a329c149"
   }
  }
 },
 "nbformat": 4,
 "nbformat_minor": 2
}
